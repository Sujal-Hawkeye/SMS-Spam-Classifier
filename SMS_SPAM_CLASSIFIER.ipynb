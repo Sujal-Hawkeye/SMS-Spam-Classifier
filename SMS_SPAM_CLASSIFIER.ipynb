import numpy as np
import pandas as pd
from sklearn.preprocessing import LabelEncoder
import matplotlib.pyplot as plt
import nltk
import seaborn as sns
from nltk.corpus import stopwords
import string
from nltk.stem.porter import PorterStemmer
from wordcloud import WordCloud
from collections import Counter
from sklearn.naive_bayes import MultinomialNB as mnb
from sklearn.naive_bayes import GaussianNB as gnb
from sklearn.naive_bayes import BernoulliNB as bnb
from sklearn.feature_extraction.text import TfidfVectorizer
from sklearn.model_selection import train_test_split
from sklearn.pipeline import make_pipeline
from sklearn.metrics import accuracy_score , confusion_matrix , precision_score 
import random

df=pd.read_csv("spam.csv",encoding='latin1')
df.head()
